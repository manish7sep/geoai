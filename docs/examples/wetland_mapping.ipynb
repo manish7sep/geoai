{
  "cells": [
    {
      "cell_type": "markdown",
      "metadata": {
        "id": "BZnRz9XDrT7g"
      },
      "source": [
        "# Wetland Mapping with GeoAI\n",
        "\n",
        "[![image](https://colab.research.google.com/assets/colab-badge.svg)](https://colab.research.google.com/github/opengeos/geoai/blob/main/docs/examples/wetland_mapping.ipynb)\n",
        "\n",
        "## Install package\n",
        "To use the `geoai-py` package, ensure it is installed in your environment. Uncomment the command below if needed."
      ]
    },
    {
      "cell_type": "code",
      "execution_count": null,
      "metadata": {
        "id": "VpOAffBarT7i"
      },
      "outputs": [],
      "source": [
        "# %pip install geoai-py"
      ]
    },
    {
      "cell_type": "markdown",
      "metadata": {
        "id": "J-KI4S68rT7i"
      },
      "source": [
        "## Import libraries"
      ]
    },
    {
      "cell_type": "code",
      "execution_count": 1,
      "metadata": {
        "id": "RgNueeYrrT7j",
        "outputId": "08b5b093-be76-4add-f1e2-6c02066f3168",
        "colab": {
          "base_uri": "https://localhost:8080/",
          "height": 332
        }
      },
      "outputs": [
        {
          "output_type": "error",
          "ename": "ModuleNotFoundError",
          "evalue": "No module named 'leafmap'",
          "traceback": [
            "\u001b[0;31m---------------------------------------------------------------------------\u001b[0m",
            "\u001b[0;31mModuleNotFoundError\u001b[0m                       Traceback (most recent call last)",
            "\u001b[0;32m/tmp/ipython-input-1-2772093008.py\u001b[0m in \u001b[0;36m<cell line: 0>\u001b[0;34m()\u001b[0m\n\u001b[0;32m----> 1\u001b[0;31m \u001b[0;32mimport\u001b[0m \u001b[0mleafmap\u001b[0m\u001b[0;34m\u001b[0m\u001b[0;34m\u001b[0m\u001b[0m\n\u001b[0m\u001b[1;32m      2\u001b[0m \u001b[0;32mimport\u001b[0m \u001b[0mgeoai\u001b[0m\u001b[0;34m\u001b[0m\u001b[0;34m\u001b[0m\u001b[0m\n",
            "\u001b[0;31mModuleNotFoundError\u001b[0m: No module named 'leafmap'",
            "",
            "\u001b[0;31m---------------------------------------------------------------------------\u001b[0;32m\nNOTE: If your import is failing due to a missing package, you can\nmanually install dependencies using either !pip or !apt.\n\nTo view examples of installing some common dependencies, click the\n\"Open Examples\" button below.\n\u001b[0;31m---------------------------------------------------------------------------\u001b[0m\n"
          ],
          "errorDetails": {
            "actions": [
              {
                "action": "open_url",
                "actionText": "Open Examples",
                "url": "/notebooks/snippets/importing_libraries.ipynb"
              }
            ]
          }
        }
      ],
      "source": [
        "import leafmap\n",
        "import geoai"
      ]
    },
    {
      "cell_type": "markdown",
      "metadata": {
        "id": "YMz5-aaerT7j"
      },
      "source": [
        "## Download sample NAIP imagery\n",
        "\n",
        "Sample NAIP imagery: https://huggingface.co/datasets/giswqs/geospatial/tree/main/naip"
      ]
    },
    {
      "cell_type": "code",
      "execution_count": null,
      "metadata": {
        "id": "WVgtjX0WrT7j"
      },
      "outputs": [],
      "source": [
        "train_raster_url = \"https://huggingface.co/datasets/giswqs/geospatial/resolve/main/naip/m_4609931_ne_14_1_20100629.tif\"\n",
        "test_raster_url = \"https://huggingface.co/datasets/giswqs/geospatial/resolve/main/naip/m_4609932_nw_14_1_20100629.tif\""
      ]
    },
    {
      "cell_type": "code",
      "execution_count": null,
      "metadata": {
        "id": "skd3g2jurT7j"
      },
      "outputs": [],
      "source": [
        "train_raster_path = geoai.download_file(train_raster_url)\n",
        "test_raster_path = geoai.download_file(test_raster_url)"
      ]
    },
    {
      "cell_type": "code",
      "execution_count": null,
      "metadata": {
        "id": "L14YfjF3rT7j"
      },
      "outputs": [],
      "source": [
        "geoai.print_raster_info(test_raster_path, show_preview=False)"
      ]
    },
    {
      "cell_type": "code",
      "execution_count": null,
      "metadata": {
        "id": "NTEbZ_ABrT7j"
      },
      "outputs": [],
      "source": [
        "geoai.view_raster(train_raster_url)"
      ]
    },
    {
      "cell_type": "code",
      "execution_count": null,
      "metadata": {
        "id": "KQZVm8RarT7k"
      },
      "outputs": [],
      "source": [
        "geoai.view_raster(test_raster_url)"
      ]
    },
    {
      "cell_type": "markdown",
      "metadata": {
        "id": "ATlt_yq2rT7k"
      },
      "source": [
        "## Download sample wetland data\n",
        "\n",
        "National Wetlands Inventory: https://www.fws.gov/program/national-wetlands-inventory/wetlands-mapper"
      ]
    },
    {
      "cell_type": "code",
      "execution_count": null,
      "metadata": {
        "id": "IEUg-wHLrT7k"
      },
      "outputs": [],
      "source": [
        "m = leafmap.Map()\n",
        "m.add_cog_layer(train_raster_url, bidx=[4, 1, 2], name=\"NAIP Imagery\")\n",
        "m"
      ]
    },
    {
      "cell_type": "code",
      "execution_count": null,
      "metadata": {
        "id": "JKwOPCzcrT7k"
      },
      "outputs": [],
      "source": [
        "bbox = m.user_roi_bounds()\n",
        "if bbox is None:\n",
        "    bbox = [-99.192, 46.56, -99.1206, 46.6283]"
      ]
    },
    {
      "cell_type": "code",
      "execution_count": null,
      "metadata": {
        "id": "slnaKxsHrT7k"
      },
      "outputs": [],
      "source": [
        "bbox_geometry = leafmap.bbox_to_gdf(bbox)"
      ]
    },
    {
      "cell_type": "code",
      "execution_count": null,
      "metadata": {
        "id": "Ks9FySYZrT7k"
      },
      "outputs": [],
      "source": [
        "nwi_gdf = leafmap.get_nwi(bbox_geometry)\n",
        "nwi_gdf.head()"
      ]
    },
    {
      "cell_type": "code",
      "execution_count": null,
      "metadata": {
        "id": "awdKRo0vrT7k"
      },
      "outputs": [],
      "source": [
        "m.add_nwi(nwi_gdf, col_name=\"Wetlands.WETLAND_TYPE\")"
      ]
    },
    {
      "cell_type": "code",
      "execution_count": null,
      "metadata": {
        "id": "4xMLt1z-rT7k"
      },
      "outputs": [],
      "source": [
        "nwi_geojson = \"nwi_wetlands.geojson\"\n",
        "nwi_gdf.to_file(nwi_geojson)"
      ]
    },
    {
      "cell_type": "markdown",
      "metadata": {
        "id": "U_FwGYuorT7k"
      },
      "source": [
        "## Create training data"
      ]
    },
    {
      "cell_type": "code",
      "execution_count": null,
      "metadata": {
        "id": "pc12PdHfrT7k"
      },
      "outputs": [],
      "source": [
        "out_folder = \"output\"\n",
        "tiles = geoai.export_geotiff_tiles(\n",
        "    in_raster=train_raster_path,\n",
        "    out_folder=out_folder,\n",
        "    in_class_data=nwi_geojson,\n",
        "    tile_size=512,\n",
        "    stride=256,\n",
        "    buffer_radius=0,\n",
        ")"
      ]
    },
    {
      "cell_type": "markdown",
      "metadata": {
        "id": "YQZk31yGrT7k"
      },
      "source": [
        "## Train object detection model"
      ]
    },
    {
      "cell_type": "code",
      "execution_count": null,
      "metadata": {
        "id": "TeBItDbbrT7k"
      },
      "outputs": [],
      "source": [
        "geoai.train_MaskRCNN_model(\n",
        "    images_dir=f\"{out_folder}/images\",\n",
        "    labels_dir=f\"{out_folder}/labels\",\n",
        "    output_dir=f\"{out_folder}/models\",\n",
        "    num_channels=4,\n",
        "    pretrained=True,\n",
        "    batch_size=4,\n",
        "    num_epochs=10,\n",
        "    learning_rate=0.005,\n",
        "    val_split=0.2,\n",
        ")"
      ]
    },
    {
      "cell_type": "markdown",
      "metadata": {
        "id": "tx29bPx_rT7l"
      },
      "source": [
        "## Run inference"
      ]
    },
    {
      "cell_type": "code",
      "execution_count": null,
      "metadata": {
        "id": "P3EL9yK9rT7l"
      },
      "outputs": [],
      "source": [
        "masks_path = \"naip_test_prediction.tif\"\n",
        "model_path = f\"{out_folder}/models/best_model.pth\""
      ]
    },
    {
      "cell_type": "code",
      "execution_count": null,
      "metadata": {
        "id": "zXmHSkK2rT7l"
      },
      "outputs": [],
      "source": [
        "geoai.object_detection(\n",
        "    test_raster_path,\n",
        "    masks_path,\n",
        "    model_path,\n",
        "    window_size=512,\n",
        "    overlap=256,\n",
        "    confidence_threshold=0.3,\n",
        "    batch_size=4,\n",
        "    num_channels=4,\n",
        ")"
      ]
    },
    {
      "cell_type": "markdown",
      "metadata": {
        "id": "8wWyyyjyrT7l"
      },
      "source": [
        "## Vectorize masks"
      ]
    },
    {
      "cell_type": "code",
      "execution_count": null,
      "metadata": {
        "id": "Xr9Ij_corT7l"
      },
      "outputs": [],
      "source": [
        "output_path = \"naip_test_prediction.geojson\"\n",
        "gdf = geoai.raster_to_vector(\n",
        "    masks_path, output_path, min_area=1000, simplify_tolerance=1\n",
        ")"
      ]
    },
    {
      "cell_type": "markdown",
      "metadata": {
        "id": "VyHQnQv_rT7m"
      },
      "source": [
        "## Visualize results"
      ]
    },
    {
      "cell_type": "code",
      "execution_count": null,
      "metadata": {
        "id": "DDwgZtt3rT7m"
      },
      "outputs": [],
      "source": [
        "geoai.view_vector_interactive(output_path, tiles=test_raster_url)"
      ]
    },
    {
      "cell_type": "code",
      "execution_count": null,
      "metadata": {
        "id": "HWV1daoxrT7m"
      },
      "outputs": [],
      "source": [
        "geoai.create_split_map(\n",
        "    left_layer=output_path,\n",
        "    right_layer=test_raster_url,\n",
        "    left_args={\"style\": {\"color\": \"red\", \"fillOpacity\": 0.4}},\n",
        "    basemap=test_raster_url,\n",
        ")"
      ]
    },
    {
      "cell_type": "markdown",
      "metadata": {
        "id": "fb70alqgrT7m"
      },
      "source": [
        "![image](https://github.com/user-attachments/assets/ab17cb29-7426-4090-8d02-b3b98dad5d05)"
      ]
    }
  ],
  "metadata": {
    "kernelspec": {
      "display_name": "Python 3",
      "name": "python3"
    },
    "language_info": {
      "codemirror_mode": {
        "name": "ipython",
        "version": 3
      },
      "file_extension": ".py",
      "mimetype": "text/x-python",
      "name": "python",
      "nbconvert_exporter": "python",
      "pygments_lexer": "ipython3",
      "version": "3.12.9"
    },
    "colab": {
      "provenance": [],
      "gpuType": "T4"
    },
    "accelerator": "GPU"
  },
  "nbformat": 4,
  "nbformat_minor": 0
}